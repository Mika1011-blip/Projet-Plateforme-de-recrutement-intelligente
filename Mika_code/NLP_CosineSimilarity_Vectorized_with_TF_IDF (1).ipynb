{
 "cells": [
  {
   "cell_type": "code",
   "execution_count": 19,
   "id": "b31ffd8a-569f-4cf9-970a-bf3781f71b48",
   "metadata": {},
   "outputs": [],
   "source": [
    "import numpy as np\n",
    "import nltk\n",
    "import string\n",
    "from nltk.tokenize import word_tokenize\n",
    "from nltk.corpus import stopwords, wordnet\n",
    "from nltk.stem import PorterStemmer, WordNetLemmatizer\n",
    "import math\n",
    "\n",
    "#nltk.download('punkt')\n",
    "#nltk.download('stopwords')\n",
    "#nltk.download('wordnet')\n",
    "#nltk.download('averaged_perceptron_tagger')\n",
    "\n",
    "text = \"The quick brown foxes jumped over the lazy dogs, running and running faster than they ever had before!\"\n",
    "\n",
    "\n",
    "corpus1 = [\n",
    "    \"Data science is an interdisciplinary field that uses scientific methods, processes, algorithms and systems to extract knowledge and insights from data.\",\n",
    "    \"Machine learning is an application of artificial intelligence that provides systems the ability to automatically learn and improve from experience.\",\n",
    "    \"Deep learning is a subset of machine learning that uses neural networks to analyze various factors of data.\",\n",
    "    \"Artificial intelligence is the simulation of human intelligence in machines that are programmed to think like humans and mimic their actions.\",\n",
    "    \"Natural language processing is a branch of artificial intelligence that helps computers understand, interpret, and generate human language.\",\n",
    "    \"Big data analytics involves examining large data sets to uncover hidden patterns, correlations, and other insights.\",\n",
    "    \"Data mining is the process of discovering patterns in large data sets using methods that blend machine learning, statistics, and database systems.\",\n",
    "    \"Computer vision is an interdisciplinary field that trains computers to interpret and understand the visual world.\",\n",
    "    \"Predictive modeling is a process that uses statistical techniques and machine learning algorithms to predict future outcomes based on historical data.\",\n",
    "    \"Robotics is a branch of technology that involves the design, construction, and operation of robots, which are automated machines.\"\n",
    "]\n"
   ]
  },
  {
   "cell_type": "code",
   "execution_count": 2,
   "id": "817c4e60-72af-408b-9e1c-443b8951be3a",
   "metadata": {},
   "outputs": [],
   "source": [
    "#Phase 1 Text Preprocessing\n",
    "def tokenize_str(input_str):\n",
    "    input_str = input_str.strip()\n",
    "    #print(input_str)\n",
    "    tokens_array = []\n",
    "    token = \"\"\n",
    "    for char in input_str :\n",
    "        #print(char)\n",
    "        if char.isspace() : \n",
    "            #print(\"appending new token to tokens array\")\n",
    "            if token:                \n",
    "                tokens_array.append(token)\n",
    "                token = \"\"\n",
    "        else :\n",
    "            #print(\"appending char to token\")\n",
    "            token += char\n",
    "            #print(token)\n",
    "    if token :\n",
    "        tokens_array.append(token)\n",
    "    return tokens_array\n",
    "\n",
    "#print(tokenize_str(text))"
   ]
  },
  {
   "cell_type": "code",
   "execution_count": 3,
   "id": "52c4b9cc-f566-4a11-bb0b-ff7c5020c3c9",
   "metadata": {},
   "outputs": [],
   "source": [
    "def remove_special_chars(input_str):\n",
    "    cleaned_str = []\n",
    "    for char in input_str :\n",
    "        if char.isalnum() or char.isspace():\n",
    "            cleaned_str.append(char)\n",
    "    return \"\".join(cleaned_str)"
   ]
  },
  {
   "cell_type": "code",
   "execution_count": 4,
   "id": "a375c4e7-903e-4426-b073-5b26987a8c1d",
   "metadata": {},
   "outputs": [
    {
     "name": "stdout",
     "output_type": "stream",
     "text": [
      "['The', 'quick', 'brown', 'foxes', 'jumped', 'lazy', 'dogs', 'running', 'running', 'faster', 'ever']\n"
     ]
    }
   ],
   "source": [
    "def remove_stopwords(input_tokens):\n",
    "    stop_words = set(stopwords.words('english')).union(set(stopwords.words('french')))\n",
    "    #print(stop_words)\n",
    "    return [token for token in input_tokens if token not in stop_words]\n",
    "tokens = tokenize_str(remove_special_chars(text))\n",
    "#print(tokens)\n",
    "processed_tokens = remove_stopwords(tokens)\n",
    "print(processed_tokens)"
   ]
  },
  {
   "cell_type": "code",
   "execution_count": 5,
   "id": "a766c303-2cd6-4dff-8eba-db398529d885",
   "metadata": {},
   "outputs": [],
   "source": [
    "def stem_tokens(input_tokens):\n",
    "    ps = PorterStemmer()\n",
    "    return [ps.stem(token) for token in input_tokens]"
   ]
  },
  {
   "cell_type": "code",
   "execution_count": 6,
   "id": "1ef94673-ddcb-417f-9efa-276f667c4949",
   "metadata": {},
   "outputs": [
    {
     "name": "stdout",
     "output_type": "stream",
     "text": [
      "Input text :\n",
      " The quick brown foxes jumped over the lazy dogs, running and running faster than they ever had before!\n",
      "Output tokens :\n",
      " ['quick', 'brown', 'fox', 'jump', 'lazi', 'dog', 'run', 'run', 'faster', 'ever']\n"
     ]
    }
   ],
   "source": [
    "def preprocess(input_str):\n",
    "    input_str=input_str.strip().lower()\n",
    "    return stem_tokens(remove_stopwords(tokenize_str(remove_special_chars(input_str))))\n",
    "processed_tokens = preprocess(text)\n",
    "print(\"Input text :\\n\" ,text)\n",
    "print(\"Output tokens :\\n\", processed_tokens)"
   ]
  },
  {
   "cell_type": "code",
   "execution_count": 7,
   "id": "bd17a1c4-5c7d-43ff-9676-207b4f227b95",
   "metadata": {},
   "outputs": [],
   "source": [
    "# Phase 2 vectorization\n",
    "def compute_tf(tokens):\n",
    "    tf = {}\n",
    "    for i in tokens:\n",
    "        count = 0\n",
    "        for j in tokens:\n",
    "            if i == j:\n",
    "                count += 1\n",
    "        # Check if token is not already in the dictionary\n",
    "        if i not in tf:\n",
    "            tf[i] = count / len(tokens)\n",
    "    return tf"
   ]
  },
  {
   "cell_type": "code",
   "execution_count": 8,
   "id": "284fe85a-dbd5-44ea-b5df-4c841deb3470",
   "metadata": {},
   "outputs": [],
   "source": [
    "def compute_df(token,corpus):\n",
    "    count = 0\n",
    "    for doc in corpus :\n",
    "        if token in doc :\n",
    "            count+=1\n",
    "    return count"
   ]
  },
  {
   "cell_type": "code",
   "execution_count": 9,
   "id": "306d9c23-aa44-4d2a-9dbc-8f0864f8c434",
   "metadata": {},
   "outputs": [],
   "source": [
    "def compute_idf(token, corpus):\n",
    "    return math.log(len(corpus) / (1 + compute_df(token, corpus)))"
   ]
  },
  {
   "cell_type": "code",
   "execution_count": 10,
   "id": "f94e7413-f09f-40e1-bac8-a960fbb46ed1",
   "metadata": {},
   "outputs": [],
   "source": [
    "def tf_idf(tokens, corpus):\n",
    "    tf_idf_scores = {}\n",
    "    unique_tokens = set(tokens)\n",
    "    term_frequencies = compute_tf(tokens)\n",
    "    for token in unique_tokens:\n",
    "        tf_idf_scores[token] = term_frequencies[token] * compute_idf(token, corpus)\n",
    "    return dict(sorted(tf_idf_scores.items()))\n"
   ]
  },
  {
   "cell_type": "code",
   "execution_count": 11,
   "id": "b369c943-1cac-4ebe-a922-c136949eaa9c",
   "metadata": {},
   "outputs": [],
   "source": [
    "#Phase3, Compute similarity (cosine methode)\n",
    "\n",
    "def cosine_similarity(vector_a,vector_b):\n",
    "    set_keys = sorted(set(vector_a.keys()).union(vector_b.keys()))\n",
    "    #print(len(set_keys))\n",
    "    #print(set_keys)\n",
    "    vals_a = [vector_a.get(key,0) for key in set_keys]\n",
    "    vals_b = [vector_b.get(key, 0) for key in set_keys] #aacount for unified keys(volcabularies)\n",
    "\n",
    "    dot_product = sum(a*b for a,b in zip(vals_a,vals_b))\n",
    "    magn_a = math.sqrt(sum(a*a for a in vals_a))\n",
    "    magn_b = math.sqrt(sum(b*b for b in vals_b))\n",
    "\n",
    "    if magn_a == 0 or magn_b == 0:\n",
    "        return 0.0\n",
    "\n",
    "    return dot_product / (magn_a * magn_b)\n",
    "    \n",
    "#type(vectorized_doc0)\n",
    "\n"
   ]
  },
  {
   "cell_type": "code",
   "execution_count": null,
   "id": "9124f65a-71f6-45c3-a730-701d76db3fb7",
   "metadata": {},
   "outputs": [],
   "source": [
    "\n"
   ]
  },
  {
   "cell_type": "code",
   "execution_count": null,
   "id": "74839875-bb7d-485d-bb3d-97e93c20a4fe",
   "metadata": {},
   "outputs": [],
   "source": []
  },
  {
   "cell_type": "code",
   "execution_count": null,
   "id": "9e924465-67a0-48ef-bd02-f9181dd23529",
   "metadata": {},
   "outputs": [],
   "source": [
    "\n"
   ]
  },
  {
   "cell_type": "code",
   "execution_count": 21,
   "id": "59659dae-f94a-469e-ba6e-f49a95fd2d47",
   "metadata": {},
   "outputs": [
    {
     "name": "stdout",
     "output_type": "stream",
     "text": [
      "0.04139854942538008\n"
     ]
    }
   ],
   "source": [
    "#Testing \n",
    "processed_docs = [preprocess(doc) for doc in corpus1]\n",
    "vectorized_doc0 = tf_idf(processed_docs[0], processed_docs)\n",
    "vectorized_doc1 = tf_idf(processed_docs[1], processed_docs)\n",
    "print(cosine_similarity(vectorized_doc0,vectorized_doc1))"
   ]
  },
  {
   "cell_type": "code",
   "execution_count": null,
   "id": "43572a42-7036-49ea-8c44-88dcec8277f6",
   "metadata": {},
   "outputs": [],
   "source": [
    "def matrix_similarity(corpus_a,corpus_b):\n",
    "    unified_corpus = corpus_a.union(corpus_b)\n",
    "    output_matrix = []\n",
    "    "
   ]
  }
 ],
 "metadata": {
  "kernelspec": {
   "display_name": "Python 3 (ipykernel)",
   "language": "python",
   "name": "python3"
  },
  "language_info": {
   "codemirror_mode": {
    "name": "ipython",
    "version": 3
   },
   "file_extension": ".py",
   "mimetype": "text/x-python",
   "name": "python",
   "nbconvert_exporter": "python",
   "pygments_lexer": "ipython3",
   "version": "3.12.7"
  }
 },
 "nbformat": 4,
 "nbformat_minor": 5
}
